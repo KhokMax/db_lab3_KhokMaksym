{
 "cells": [
  {
   "cell_type": "code",
   "execution_count": 3,
   "id": "56afe30a",
   "metadata": {},
   "outputs": [],
   "source": [
    "import json\n",
    "import psycopg2\n",
    "\n",
    "username = 'KhokMaksym'\n",
    "password = '1234543'\n",
    "database = 'Lab_2_DB'\n",
    "host = 'localhost'\n",
    "port = '5432'\n",
    "\n",
    "conn = psycopg2.connect(user=username, password=password, dbname=database, host=host, port=port)\n",
    "\n",
    "data = {}\n",
    "with conn:\n",
    "    cur = conn.cursor()\n",
    "    \n",
    "    for table in ('cities', 'customers', 'orders', 'products', 'orderitems'):\n",
    "        cur.execute('SELECT * FROM ' + table)\n",
    "        rows = []\n",
    "        fields = [x[0] for x in cur.description]\n",
    "\n",
    "        for row in cur:\n",
    "            rows.append(dict(zip(fields, row)))\n",
    "\n",
    "        data[table] = rows\n",
    "\n",
    "with open('all_data.json', 'w') as outf:\n",
    "    json.dump(data, outf, default = str)"
   ]
  }
 ],
 "metadata": {
  "kernelspec": {
   "display_name": "Python 3 (ipykernel)",
   "language": "python",
   "name": "python3"
  },
  "language_info": {
   "codemirror_mode": {
    "name": "ipython",
    "version": 3
   },
   "file_extension": ".py",
   "mimetype": "text/x-python",
   "name": "python",
   "nbconvert_exporter": "python",
   "pygments_lexer": "ipython3",
   "version": "3.9.1"
  }
 },
 "nbformat": 4,
 "nbformat_minor": 5
}
